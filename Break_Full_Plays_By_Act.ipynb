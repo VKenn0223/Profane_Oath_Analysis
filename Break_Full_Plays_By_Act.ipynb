{
 "cells": [
  {
   "cell_type": "markdown",
   "id": "433f4e93-af1c-4803-8edb-6245a363cf41",
   "metadata": {},
   "source": [
    "# Breaking full .xml files encoded by SHC with BeautifulSoup\n",
    "This code opens full .xml files of plays encoded by Shakespeare His Contemporaries (SHC) using MorphAdorner, and breaks the .xml file into 5 .txt files, only containing play content (ie, no inclusion of speaker name). Skips plays that do not have 5 acts and those whose encoding does not line up with what is generally used by SHC."
   ]
  },
  {
   "cell_type": "code",
   "execution_count": 31,
   "id": "24742d0a-8657-4e88-967c-bf50cd3899b2",
   "metadata": {},
   "outputs": [],
   "source": [
    "import os\n",
    "from bs4 import BeautifulSoup"
   ]
  },
  {
   "cell_type": "code",
   "execution_count": 37,
   "id": "6d327126-dbcf-41a0-aba0-a4cc4ffb471e",
   "metadata": {},
   "outputs": [],
   "source": [
    "# set variable 'path' for easier navigation using os.\n",
    "path = 'Full_SHC_Plays'"
   ]
  },
  {
   "cell_type": "markdown",
   "id": "e568b405-5895-404d-ac02-fa5c4fdc86eb",
   "metadata": {},
   "source": [
    "# Function to break acts"
   ]
  },
  {
   "cell_type": "code",
   "execution_count": 77,
   "id": "3877aaec-7222-46f8-8277-764ccb06b02f",
   "metadata": {},
   "outputs": [],
   "source": [
    "def breakByAct(tei_doc):\n",
    "    \n",
    "    # get title in string format to work with later\n",
    "    title = str(tei_doc)\n",
    "    print('Currently Breaking: ' + title)\n",
    "\n",
    "    # open doc and parse it using BeautifulSoup\n",
    "    with open(f'{path}/{tei_doc}', 'r') as tei:\n",
    "        soup = BeautifulSoup(tei, features='xml')\n",
    "\n",
    "    # variable 'num' declared here to use to label each act upon writing to file\n",
    "    num = 1\n",
    "    \n",
    "    # some files have the 'act' type listed only every act - some have it listed per scene. This causes some problems.\n",
    "    if soup.find('div', {'type': 'act'}):\n",
    "        \n",
    "        # if there are a total of 5 divs whose type = 'act' then proceed. \n",
    "        if len(soup.find_all('div', {'type': 'act'})) == 5:\n",
    "            for result in soup.find_all('div', {'type': 'act'}):\n",
    "                lineArray = []\n",
    "                \n",
    "                # the reason for the two for loops is that some files tag with <l> and some with <p>.\n",
    "                # Using for line in result.find_all('l') or result.find_all('p') results in some lines being missed.\n",
    "                # If the code finds <l>, it navigates by these and ignores the <p> so I have it iterate over twice\n",
    "                # to avoid losing any content.\n",
    "                # Only including lemmas in the output file.\n",
    "                for line in result.find_all('l'):\n",
    "                    for word in line.find_all('w'):\n",
    "                        if word.has_attr('lemma'):\n",
    "                            playText = word['lemma']\n",
    "                            lineArray.append(playText)\n",
    "                for line in result.find_all('p'):\n",
    "                    for word in line.find_all('w'):\n",
    "                        if word.has_attr('lemma'):\n",
    "                            playText = word['lemma']\n",
    "                            lineArray.append(playText)\n",
    "                with open('Broken_SHC_Plays/%s_ACT_%s.txt' % (title, num), 'w+') as playAct:\n",
    "                    brokenPlay = ' '.join(lineArray)\n",
    "                    playAct.write(brokenPlay)\n",
    "                num += 1\n",
    "\n",
    "        # if there are more or less than 5 divs whose type = 'act' this is printed.\n",
    "        # choose to print an explanatory sentence to assist in tracking which files may need more attention.\n",
    "        else:\n",
    "            print('File ' + title + ' does not have 5 acts or is not encoded typically.')\n",
    "\n",
    "    # if the play does not have <div> with the specified attribute and value, this is printed.\n",
    "    # as comment above, assisted in tracking which files may need more attention.\n",
    "    else:\n",
    "        print('File ' + title + ' does not have divs with type = act.')\n",
    "\n"
   ]
  },
  {
   "cell_type": "markdown",
   "id": "612563ab-c447-4594-b1e3-6666a6c2cf8c",
   "metadata": {},
   "source": [
    "The below cell takes a while to run."
   ]
  },
  {
   "cell_type": "code",
   "execution_count": null,
   "id": "58075271-7cc6-40bf-a9b0-f5f0ae6d583c",
   "metadata": {
    "scrolled": true
   },
   "outputs": [],
   "source": [
    "for fullFile in os.listdir(path):\n",
    "    if '.xml' in fullFile:\n",
    "        breakByAct(fullFile)\n"
   ]
  },
  {
   "cell_type": "markdown",
   "id": "d6b2609b-b3fb-4c4c-b32b-47187b4ef6e4",
   "metadata": {},
   "source": [
    "With the above code I can filter out any plays that do not have 5 acts, or those which are structured unusually for SHC. For plays for which the latter explanation is true, it would likely be more efficient to break up the plays into their 5-act .txt files rather than trying to code around their unusual structure in this case.\n",
    "Results in 258 plays out of 365 being usable without further input.\n",
    "In the case of a longer project, these remaining plays would be examined further and either coded for separately or manually handled."
   ]
  }
 ],
 "metadata": {
  "kernelspec": {
   "display_name": "Python 3 (ipykernel)",
   "language": "python",
   "name": "python3"
  },
  "language_info": {
   "codemirror_mode": {
    "name": "ipython",
    "version": 3
   },
   "file_extension": ".py",
   "mimetype": "text/x-python",
   "name": "python",
   "nbconvert_exporter": "python",
   "pygments_lexer": "ipython3",
   "version": "3.12.2"
  }
 },
 "nbformat": 4,
 "nbformat_minor": 5
}
